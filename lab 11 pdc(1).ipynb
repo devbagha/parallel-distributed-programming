{
 "cells": [
  {
   "cell_type": "code",
   "execution_count": 5,
   "id": "b5cecc91-ba34-48b8-977c-c54e8532c7ed",
   "metadata": {},
   "outputs": [
    {
     "name": "stdout",
     "output_type": "stream",
     "text": [
      "Requirement already satisfied: dask in c:\\users\\adeena asif\\anaconda3\\envs\\pdc\\lib\\site-packages (2024.8.0)\n",
      "Requirement already satisfied: click>=8.1 in c:\\users\\adeena asif\\anaconda3\\envs\\pdc\\lib\\site-packages (from dask) (8.1.7)\n",
      "Requirement already satisfied: cloudpickle>=1.5.0 in c:\\users\\adeena asif\\anaconda3\\envs\\pdc\\lib\\site-packages (from dask) (3.1.0)\n",
      "Requirement already satisfied: fsspec>=2021.09.0 in c:\\users\\adeena asif\\anaconda3\\envs\\pdc\\lib\\site-packages (from dask) (2024.10.0)\n",
      "Requirement already satisfied: packaging>=20.0 in c:\\users\\adeena asif\\anaconda3\\envs\\pdc\\lib\\site-packages (from dask) (24.1)\n",
      "Requirement already satisfied: partd>=1.4.0 in c:\\users\\adeena asif\\anaconda3\\envs\\pdc\\lib\\site-packages (from dask) (1.4.2)\n",
      "Requirement already satisfied: pyyaml>=5.3.1 in c:\\users\\adeena asif\\anaconda3\\envs\\pdc\\lib\\site-packages (from dask) (6.0.2)\n",
      "Requirement already satisfied: toolz>=0.10.0 in c:\\users\\adeena asif\\anaconda3\\envs\\pdc\\lib\\site-packages (from dask) (1.0.0)\n",
      "Requirement already satisfied: importlib-metadata>=4.13.0 in c:\\users\\adeena asif\\anaconda3\\envs\\pdc\\lib\\site-packages (from dask) (8.5.0)\n",
      "Requirement already satisfied: colorama in c:\\users\\adeena asif\\anaconda3\\envs\\pdc\\lib\\site-packages (from click>=8.1->dask) (0.4.6)\n",
      "Requirement already satisfied: zipp>=3.20 in c:\\users\\adeena asif\\anaconda3\\envs\\pdc\\lib\\site-packages (from importlib-metadata>=4.13.0->dask) (3.21.0)\n",
      "Requirement already satisfied: locket in c:\\users\\adeena asif\\anaconda3\\envs\\pdc\\lib\\site-packages (from partd>=1.4.0->dask) (1.0.0)\n",
      "Note: you may need to restart the kernel to use updated packages.\n"
     ]
    }
   ],
   "source": [
    "pip install dask"
   ]
  },
  {
   "cell_type": "code",
   "execution_count": 6,
   "id": "ddcc4fd0-dece-4c55-b51e-4518082d659a",
   "metadata": {},
   "outputs": [
    {
     "name": "stdout",
     "output_type": "stream",
     "text": [
      "Dask Sum: 49999528.13773039 Time: 0.1079092025756836 seconds\n",
      "Dask Mean: 0.4999952813773039 Time: -199.9595685005188 seconds\n",
      "NumPy Sum: 49999528.13773017 Time: 0.1689755916595459 seconds\n",
      "NumPy Mean: 0.49999528137730165 Time: 0.19350385665893555 seconds\n"
     ]
    }
   ],
   "source": [
    "import dask\n",
    "import dask.array as da\n",
    "import time\n",
    "import numpy as np\n",
    "\n",
    "\n",
    "# Create a large NumPy array\n",
    "np_array = np.random.random((10000, 10000))\n",
    "# Convert the NumPy array into a Dask array with chunks\n",
    "dask_array = da.from_array(np_array, chunks=(1000, 1000))\n",
    "\n",
    "# Measure time for Dask operations\n",
    "start_dask_sum = time.time()\n",
    "dask_sum = dask_array.sum().compute()\n",
    "end_dask_sum = time.time()\n",
    "\n",
    "start_dask_mean = time.time()\n",
    "dask_mean = dask_array.mean().compute()\n",
    "en_dask_mean = time.time()\n",
    "\n",
    "# Measure time for NumPy operations\n",
    "start_numpy_sum = time.time()\n",
    "numpy_sum = np_array.sum()\n",
    "end_numpy_sum = time.time()\n",
    "\n",
    "start_numpy_mean = time.time()\n",
    "numpy_mean = np_array.mean()\n",
    "end_numpy_mean = time.time()\n",
    "\n",
    "# Print results\n",
    "print(\"Dask Sum:\", dask_sum, \"Time:\", end_dask_sum - start_dask_sum, \"seconds\")\n",
    "print(\"Dask Mean:\", dask_mean, \"Time:\", end_dask_mean - start_dask_mean, \"seconds\")\n",
    "print(\"NumPy Sum:\", numpy_sum, \"Time:\", end_numpy_sum - start_numpy_sum, \"seconds\")\n",
    "print(\"NumPy Mean:\", numpy_mean, \"Time:\", end_numpy_mean - start_numpy_mean, \"seconds\")"
   ]
  },
  {
   "cell_type": "code",
   "execution_count": 2,
   "id": "b254a1f9-be8d-48b1-ac95-20454d6ac020",
   "metadata": {},
   "outputs": [
    {
     "name": "stdout",
     "output_type": "stream",
     "text": [
      "Word counts per line: [2, 2, 8, 11, 0, 2, 21, 0, 0, 1, 26, 25, 1, 0, 0, 4, 6, 0, 25, 0, 13, 0, 7, 0, 7, 0, 4, 0, 4, 0, 0, 1, 20, 11, 3, 10, 3, 0, 1, 13, 0, 2, 5, 2, 0, 0, 1, 13, 2, 0, 10, 0, 6, 4, 9, 6, 3, 0, 6, 15, 12, 15, 12, 3, 0, 0, 13, 8, 8, 10, 14, 13, 8, 10, 14, 10, 13, 12, 1, 0, 0, 1, 25, 18, 0, 8, 4, 4, 14, 0, 0, 1, 12, 7, 8, 8, 11, 0, 7, 5, 0, 21, 14, 1, 0, 1, 9, 21, 16, 21, 8, 25, 0, 3, 1, 13, 10, 14, 14, 12, 9, 0, 1, 6, 12, 3, 0, 2, 14, 11, 13, 10, 12, 5, 0, 0, 2, 26, 11, 14, 10, 13, 1, 0, 1, 0, 0, 1, 4, 12, 14, 13, 12, 1, 0, 0, 1, 1, 17, 10, 11, 20, 25, 20, 0, 0, 1, 13, 2, 2, 0, 0]\n",
      "Filtered lines containing keywords: ['\\tSHORT CODE:\\n', '\\tSpeed Coding:\\n', 'Fortran\\n', 'LISP\\n', '\\tDeveloped as machine independant as fortran was IBM and LISP was something other.\\n', '\\tFortran among users and the lack of support by IBM were probably the most\\n', 'COBOL\\n', '\\terlier languages were used for scientific purposes only, COBOL was developed for business applications. used more english as much as possible rather than mathamtaical notiations.\\n', '\\tCombined the best features of algo, fortran, an cobol. \\n', '\\t• Cross-sections of arrays could be referenced. For example, the third row of a matrix could be referenced as if it were a single-dimensioned array.\\n', 'C\\n', '\\tNeither BCPL nor B is a typed language. Being untyped means that all data are considered machine\\n', '\\tThis problem, along with several others, led to the development of a new typed language based on B. Originally called NB but later named C,\\n', '\\tOne of the most important reasons why C is both liked and disliked is its lack of complete type checking.\\n']\n"
     ]
    }
   ],
   "source": [
    "import dask.bag as db\n",
    "\n",
    "# Load the text file as a Dask Bag\n",
    "file_path = 'notes(1).txt'\n",
    "bag = db.read_text(file_path)\n",
    "\n",
    "# Example operations\n",
    "# Count the number of words in each line\n",
    "word_count = bag.map(lambda x: len(x.split()))\n",
    "\n",
    "# Filter lines containing specific keywords\n",
    "filtered_bag = bag.filter(lambda x: \"Fortran\" in x or \"LISP\" in x or \"C\" in x)\n",
    "\n",
    "# Trigger computations\n",
    "print(\"Word counts per line:\", word_count.compute())\n",
    "print(\"Filtered lines containing keywords:\", filtered_bag.compute())\n"
   ]
  },
  {
   "cell_type": "code",
   "execution_count": 14,
   "id": "56dd9def-ed26-4381-877d-773a55914d97",
   "metadata": {},
   "outputs": [
    {
     "name": "stdout",
     "output_type": "stream",
     "text": [
      "                         Id  SepalLengthCm  SepalWidthCm  PetalLengthCm  \\\n",
      "Species                                                                   \n",
      "Iris-setosa       25.636364       5.313636      3.713636       1.509091   \n",
      "Iris-versicolor   75.787234       5.997872      2.804255       4.317021   \n",
      "Iris-virginica   125.877551       6.622449      2.983673       5.573469   \n",
      "\n",
      "                 PetalWidthCm  \n",
      "Species                        \n",
      "Iris-setosa          0.277273  \n",
      "Iris-versicolor      1.346809  \n",
      "Iris-virginica       2.032653  \n"
     ]
    }
   ],
   "source": [
    "import dask.dataframe as dd\n",
    "\n",
    "# Load the uploaded CSV file as a Dask DataFrame\n",
    "file_path = \"Iris.csv\"  \n",
    "df = dd.read_csv(file_path)\n",
    "\n",
    "# Perform operations\n",
    "# Example filtering: Selecting rows where 'sepal_length' is greater than 5.0\n",
    "filtered_df = df[df['SepalLengthCm'] > 5.0]\n",
    "\n",
    "# Group by 'species' and calculate the mean of the remaining columns\n",
    "grouped = filtered_df.groupby('Species').mean()\n",
    "\n",
    "# Trigger computations and display results\n",
    "print(grouped.compute())\n"
   ]
  },
  {
   "cell_type": "code",
   "execution_count": 4,
   "id": "b4ed6734-0920-4caf-8c66-00b1e04b9dfc",
   "metadata": {},
   "outputs": [
    {
     "name": "stderr",
     "output_type": "stream",
     "text": [
      "C:\\Users\\Adeena Asif\\anaconda3\\envs\\pdc\\lib\\site-packages\\distributed\\node.py:182: UserWarning: Port 8787 is already in use.\n",
      "Perhaps you already have a cluster running?\n",
      "Hosting the HTTP server on port 53360 instead\n",
      "  warnings.warn(\n"
     ]
    },
    {
     "name": "stdout",
     "output_type": "stream",
     "text": [
      "Dask Dashboard is available at: http://127.0.0.1:53360/status\n",
      "Mean (before persist): 0.49965937786684206\n",
      "Mean (after persist): 0.49965937786684206\n"
     ]
    }
   ],
   "source": [
    "\n",
    "import dask.array as da\n",
    "from dask.distributed import Client\n",
    "\n",
    "# Start a local Dask client\n",
    "client = Client()\n",
    "\n",
    "# Example computation\n",
    "# Create a large Dask array with random values\n",
    "dask_array = da.random.random((1000, 1000), chunks=(500, 500))\n",
    "\n",
    "# Operation: Compute the mean\n",
    "result = dask_array.mean()\n",
    "\n",
    "# View the Dask dashboard link\n",
    "print(\"Dask Dashboard is available at:\", client.dashboard_link)\n",
    "\n",
    "# Trigger computation and analyze the task graph\n",
    "print(\"Mean (before persist):\", result.compute())\n",
    "\n"
   ]
  },
  {
   "cell_type": "code",
   "execution_count": 3,
   "id": "304d6736-1f39-4464-95af-9c84118b7afc",
   "metadata": {},
   "outputs": [
    {
     "name": "stdout",
     "output_type": "stream",
     "text": [
      "Mean (after persist): 0.4999252640089117\n"
     ]
    }
   ],
   "source": [
    "# Persist the Dask array to optimize performance\n",
    "persisted_array = dask_array.persist()\n",
    "\n",
    "\n",
    "# Recompute the mean using the persisted data\n",
    "persisted_result = persisted_array.mean().compute()\n",
    "\n",
    "print(\"Mean (after persist):\", persisted_result)"
   ]
  },
  {
   "cell_type": "code",
   "execution_count": null,
   "id": "ec0a257b-0f11-4086-b44f-ee88eb4f55c3",
   "metadata": {},
   "outputs": [],
   "source": []
  },
  {
   "cell_type": "code",
   "execution_count": null,
   "id": "1e265d28-9beb-4e46-a285-ac7a8fa4b16a",
   "metadata": {},
   "outputs": [],
   "source": []
  }
 ],
 "metadata": {
  "kernelspec": {
   "display_name": "Python 3 (ipykernel)",
   "language": "python",
   "name": "python3"
  },
  "language_info": {
   "codemirror_mode": {
    "name": "ipython",
    "version": 3
   },
   "file_extension": ".py",
   "mimetype": "text/x-python",
   "name": "python",
   "nbconvert_exporter": "python",
   "pygments_lexer": "ipython3",
   "version": "3.11.5"
  }
 },
 "nbformat": 4,
 "nbformat_minor": 5
}
