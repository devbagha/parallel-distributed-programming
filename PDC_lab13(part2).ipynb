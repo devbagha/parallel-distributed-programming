{
  "nbformat": 4,
  "nbformat_minor": 0,
  "metadata": {
    "colab": {
      "provenance": [],
      "gpuType": "T4"
    },
    "kernelspec": {
      "name": "python3",
      "display_name": "Python 3"
    },
    "language_info": {
      "name": "python"
    },
    "accelerator": "GPU"
  },
  "cells": [
    {
      "cell_type": "code",
      "execution_count": 1,
      "metadata": {
        "id": "I7PrvhTJJKOO"
      },
      "outputs": [],
      "source": [
        "import cudf\n",
        "import numpy as np"
      ]
    },
    {
      "cell_type": "code",
      "source": [
        "# Step 1: Create a cuDF DataFrame\n",
        "\n",
        "data = np.random.randint(0, 100, size=(10**6, 3)) # 1 million rows, 3 columns\n",
        "\n",
        "df = cudf.DataFrame(data, columns=[\"A\", \"B\", \"C\"])\n",
        "\n",
        "\n",
        "print(\"First 5 rows of the DataFrame:\")\n",
        "\n",
        "print(df.head())\n",
        "\n",
        "\n",
        "# Step 2: Filter rows where column 'A' is greater than 50\n",
        "\n",
        "filtered_df = df[df['A'] > 50]\n",
        "\n",
        "print(\"Filtered DataFrame (A > 50), first 5 rows:\")\n",
        "\n",
        "print(filtered_df.head())\n",
        "\n",
        "\n",
        "# Step 3: Perform a groupby on column 'A' and aggregate column 'B'\n",
        "\n",
        "grouped_df = df.groupby('A').agg({'B': 'mean'})\n",
        "\n",
        "print(\"GroupBy result (mean of B for each value of A), first 5 rows:\")\n",
        "\n",
        "print(grouped_df.head())"
      ],
      "metadata": {
        "colab": {
          "base_uri": "https://localhost:8080/"
        },
        "id": "w0ZLoCOPJVYV",
        "outputId": "05c1f02a-8518-414f-cea4-02df35038610"
      },
      "execution_count": 2,
      "outputs": [
        {
          "output_type": "stream",
          "name": "stdout",
          "text": [
            "First 5 rows of the DataFrame:\n",
            "    A   B   C\n",
            "0  54  37  36\n",
            "1  10   5  39\n",
            "2  68  91   1\n",
            "3  37  80  13\n",
            "4  42  15  19\n",
            "Filtered DataFrame (A > 50), first 5 rows:\n",
            "     A   B   C\n",
            "0   54  37  36\n",
            "2   68  91   1\n",
            "6   98  79  34\n",
            "9   73  37  85\n",
            "10  64  44  92\n",
            "GroupBy result (mean of B for each value of A), first 5 rows:\n",
            "            B\n",
            "A            \n",
            "7   49.527626\n",
            "15  49.551971\n",
            "38  49.319799\n",
            "53  48.937910\n",
            "94  49.541721\n"
          ]
        }
      ]
    },
    {
      "cell_type": "code",
      "source": [
        "import pandas as pd\n",
        "\n",
        "import cudf\n",
        "\n",
        "import numpy as np\n",
        "\n",
        "import time\n",
        "\n",
        "# Generate a large dataset\n",
        "\n",
        "data = np.random.randint(0, 100, size=(10**6, 3))\n",
        "\n",
        "\n",
        "# Step 1: Perform operations using Pandas\n",
        "\n",
        "df_pd = pd.DataFrame(data, columns=[\"A\", \"B\", \"C\"])\n",
        "\n",
        "start_time = time.time()\n",
        "\n",
        "\n",
        "# Filter rows where column 'A' is greater than 50\n",
        "\n",
        "filtered_pd = df_pd[df_pd['A'] > 50]\n",
        "\n",
        "end_time = time.time()\n",
        "\n",
        "print(f\"Pandas operation took: {end_time - start_time:.4f} seconds\")\n",
        "\n",
        "\n",
        "# Step 2: Perform operations using cuDF\n",
        "\n",
        "df_cudf = cudf.DataFrame(data, columns=[\"A\", \"B\", \"C\"])\n",
        "\n",
        "start_time = time.time()\n",
        "\n",
        "\n",
        "# Filter rows where column 'A' is greater than 50\n",
        "\n",
        "filtered_cudf = df_cudf[df_cudf['A'] > 50]\n",
        "\n",
        "end_time = time.time()\n",
        "\n",
        "print(f\"cuDF operation took: {end_time - start_time:.4f} seconds\")"
      ],
      "metadata": {
        "colab": {
          "base_uri": "https://localhost:8080/"
        },
        "id": "tTID4YFiJn7z",
        "outputId": "5353c2bb-ad89-459b-8155-0e6fbd168c92"
      },
      "execution_count": 3,
      "outputs": [
        {
          "output_type": "stream",
          "name": "stdout",
          "text": [
            "Pandas operation took: 0.0385 seconds\n",
            "cuDF operation took: 0.0050 seconds\n"
          ]
        }
      ]
    },
    {
      "cell_type": "code",
      "source": [
        "\n",
        "import pandas as pd\n",
        "\n",
        "import cudf\n",
        "\n",
        "import numpy as np\n",
        "import time\n",
        "\n",
        "\n",
        "# Step 1: Create two large DataFrames with a common column\n",
        "\n",
        "data1 = np.random.randint(0, 100000, size=(10**6, 2)) # 1 million rows, 2 columns\n",
        "\n",
        "data2 = np.random.randint(0, 100000, size=(10**6, 2))\n",
        "\n",
        "\n",
        "df_pd1 = pd.DataFrame(data1, columns=[\"key\", \"value1\"])\n",
        "\n",
        "df_pd2 = pd.DataFrame(data2, columns=[\"key\", \"value2\"])\n",
        "\n",
        "\n",
        "df_cudf1 = cudf.DataFrame(data1, columns=[\"key\", \"value1\"])\n",
        "\n",
        "df_cudf2 = cudf.DataFrame(data2, columns=[\"key\", \"value2\"])\n",
        "\n",
        "\n",
        "# Step 2: Perform the join operation using Pandas\n",
        "\n",
        "start_time = time.time()\n",
        "\n",
        "joined_pd = pd.merge(df_pd1, df_pd2, on='key', how='inner')\n",
        "\n",
        "end_time = time.time()\n",
        "\n",
        "print(f\"Pandas join took: {end_time - start_time:.4f} seconds\")\n",
        "\n",
        "\n",
        "# Step 3: Perform the join operation using cuDF\n",
        "\n",
        "start_time = time.time()\n",
        "\n",
        "joined_cudf = df_cudf1.merge(df_cudf2, on='key', how='inner')\n",
        "\n",
        "end_time = time.time()\n",
        "\n",
        "print(f\"cuDF join took: {end_time - start_time:.4f} seconds\")"
      ],
      "metadata": {
        "colab": {
          "base_uri": "https://localhost:8080/"
        },
        "id": "EINJtYFaJ1y5",
        "outputId": "ad315c12-c60f-42ef-ec08-0f05ee5014a5"
      },
      "execution_count": 4,
      "outputs": [
        {
          "output_type": "stream",
          "name": "stdout",
          "text": [
            "Pandas join took: 1.0624 seconds\n",
            "cuDF join took: 0.0592 seconds\n"
          ]
        }
      ]
    },
    {
      "cell_type": "code",
      "source": [
        "# Step 1: Create a large dataset\n",
        "\n",
        "data = np.random.randint(0, 100, size=(10**6, 3)) # 1 million rows, 3 columns\n",
        "\n",
        "df_pd = pd.DataFrame(data, columns=[\"A\", \"B\", \"C\"])\n",
        "\n",
        "df_cudf = cudf.DataFrame(data, columns=[\"A\", \"B\", \"C\"])\n",
        "\n",
        "\n",
        "# Step 2: Perform groupby and aggregation using Pandas\n",
        "\n",
        "start_time = time.time()\n",
        "\n",
        "grouped_pd = df_pd.groupby('A').agg({'B': 'mean', 'C': 'sum'})\n",
        "\n",
        "end_time = time.time()\n",
        "\n",
        "print(f\"Pandas groupby took: {end_time - start_time:.4f} seconds\")\n",
        "\n",
        "\n",
        "# Step 3: Perform groupby and aggregation using cuDF\n",
        "\n",
        "start_time = time.time()\n",
        "\n",
        "grouped_cudf = df_cudf.groupby('A').agg({'B': 'mean', 'C': 'sum'})\n",
        "\n",
        "end_time = time.time()\n",
        "\n",
        "print(f\"cuDF groupby took: {end_time - start_time:.4f} seconds\")"
      ],
      "metadata": {
        "colab": {
          "base_uri": "https://localhost:8080/"
        },
        "id": "WL7bPnoxKAJb",
        "outputId": "ab47f0ae-0f56-4090-ba9d-5ce24a1906a1"
      },
      "execution_count": 5,
      "outputs": [
        {
          "output_type": "stream",
          "name": "stdout",
          "text": [
            "Pandas groupby took: 0.0768 seconds\n",
            "cuDF groupby took: 0.0058 seconds\n"
          ]
        }
      ]
    },
    {
      "cell_type": "code",
      "source": [
        "# Step 1: Create a DataFrame with missing values\n",
        "data = {'A': [1, 2, None, 4, None], 'B': [5, None, 7, None, 9]}\n",
        "\n",
        "df = cudf.DataFrame(data)\n",
        "\n",
        "\n",
        "print(\"Original DataFrame:\")\n",
        "\n",
        "print(df)\n",
        "\n",
        "\n",
        "# Step 2: Drop rows with missing values\n",
        "\n",
        "df_dropped = df.dropna()\n",
        "\n",
        "print(\"DataFrame after dropping missing values:\")\n",
        "\n",
        "print(df_dropped)\n",
        "\n",
        "\n",
        "# Step 3: Fill missing values with a default value\n",
        "\n",
        "df_filled = df.fillna(0)\n",
        "\n",
        "print(\"DataFrame after filling missing values:\")\n",
        "\n",
        "print\n"
      ],
      "metadata": {
        "colab": {
          "base_uri": "https://localhost:8080/"
        },
        "id": "on4JHt_KKJqJ",
        "outputId": "51c0669b-ec27-4b15-83b4-815ffbe7d97e"
      },
      "execution_count": 6,
      "outputs": [
        {
          "output_type": "stream",
          "name": "stdout",
          "text": [
            "Original DataFrame:\n",
            "      A     B\n",
            "0     1     5\n",
            "1     2  <NA>\n",
            "2  <NA>     7\n",
            "3     4  <NA>\n",
            "4  <NA>     9\n",
            "DataFrame after dropping missing values:\n",
            "   A  B\n",
            "0  1  5\n",
            "DataFrame after filling missing values:\n"
          ]
        },
        {
          "output_type": "execute_result",
          "data": {
            "text/plain": [
              "<function print>"
            ]
          },
          "metadata": {},
          "execution_count": 6
        }
      ]
    },
    {
      "cell_type": "code",
      "source": [],
      "metadata": {
        "id": "l54Rm_c3KXoN"
      },
      "execution_count": 6,
      "outputs": []
    }
  ]
}