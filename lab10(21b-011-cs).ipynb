{
 "cells": [
  {
   "cell_type": "markdown",
   "id": "12688076-91e1-495a-b146-c970205ec3d5",
   "metadata": {},
   "source": [
    "# Exercise 1: Introduction to dask.delayed"
   ]
  },
  {
   "cell_type": "code",
   "execution_count": 18,
   "id": "28d8e38c-1347-4cb7-90a6-ad1a1faceca7",
   "metadata": {},
   "outputs": [
    {
     "name": "stdout",
     "output_type": "stream",
     "text": [
      "Requirement already satisfied: dask in c:\\users\\dell\\anaconda3\\lib\\site-packages (2024.5.0)\n",
      "Requirement already satisfied: click>=8.1 in c:\\users\\dell\\anaconda3\\lib\\site-packages (from dask) (8.1.7)\n",
      "Requirement already satisfied: cloudpickle>=1.5.0 in c:\\users\\dell\\anaconda3\\lib\\site-packages (from dask) (2.2.1)\n",
      "Requirement already satisfied: fsspec>=2021.09.0 in c:\\users\\dell\\anaconda3\\lib\\site-packages (from dask) (2024.3.1)\n",
      "Requirement already satisfied: packaging>=20.0 in c:\\users\\dell\\appdata\\roaming\\python\\python312\\site-packages (from dask) (24.1)\n",
      "Requirement already satisfied: partd>=1.2.0 in c:\\users\\dell\\anaconda3\\lib\\site-packages (from dask) (1.4.1)\n",
      "Requirement already satisfied: pyyaml>=5.3.1 in c:\\users\\dell\\anaconda3\\lib\\site-packages (from dask) (6.0.1)\n",
      "Requirement already satisfied: toolz>=0.10.0 in c:\\users\\dell\\anaconda3\\lib\\site-packages (from dask) (0.12.0)\n",
      "Requirement already satisfied: colorama in c:\\users\\dell\\appdata\\roaming\\python\\python312\\site-packages (from click>=8.1->dask) (0.4.6)\n",
      "Requirement already satisfied: locket in c:\\users\\dell\\anaconda3\\lib\\site-packages (from partd>=1.2.0->dask) (1.0.0)\n",
      "Note: you may need to restart the kernel to use updated packages.\n"
     ]
    }
   ],
   "source": [
    "pip install dask"
   ]
  },
  {
   "cell_type": "code",
   "execution_count": 22,
   "id": "6e2905ab-485b-4821-8250-a370192403e6",
   "metadata": {},
   "outputs": [
    {
     "name": "stdout",
     "output_type": "stream",
     "text": [
      "Sum of squares: (285,)\n"
     ]
    }
   ],
   "source": [
    "from dask import delayed, compute\n",
    "\n",
    "\n",
    "# Wrap functions with delayed\n",
    "\n",
    "@delayed\n",
    "\n",
    "def square(x):\n",
    "\n",
    "    return x ** 2\n",
    "\n",
    "\n",
    "@delayed\n",
    "\n",
    "def sum_of_squares(numbers):\n",
    "\n",
    "    return sum(numbers)\n",
    "\n",
    "\n",
    "# Parallel execution\n",
    "\n",
    "numbers = range(10)\n",
    "\n",
    "squared = [square(x) for x in numbers]\n",
    "\n",
    "result = sum_of_squares(squared)\n",
    "\n",
    "\n",
    "# Compute the final result\n",
    "\n",
    "final_result = compute(result)\n",
    "\n",
    "print(\"Sum of squares:\", final_result)\n"
   ]
  },
  {
   "cell_type": "markdown",
   "id": "0384067f-5f02-467d-ae7d-7194487672d0",
   "metadata": {},
   "source": [
    "# Exercise 2: Dask Arrays vs. NumPy"
   ]
  },
  {
   "cell_type": "code",
   "execution_count": 25,
   "id": "b77c600d-2d0e-4af4-a0a7-7a434517f22a",
   "metadata": {},
   "outputs": [
    {
     "name": "stdout",
     "output_type": "stream",
     "text": [
      "Requirement already satisfied: dask in c:\\users\\dell\\anaconda3\\lib\\site-packages (2024.5.0)\n",
      "Requirement already satisfied: numpy in c:\\users\\dell\\anaconda3\\lib\\site-packages (1.26.4)\n",
      "Requirement already satisfied: click>=8.1 in c:\\users\\dell\\anaconda3\\lib\\site-packages (from dask) (8.1.7)\n",
      "Requirement already satisfied: cloudpickle>=1.5.0 in c:\\users\\dell\\anaconda3\\lib\\site-packages (from dask) (2.2.1)\n",
      "Requirement already satisfied: fsspec>=2021.09.0 in c:\\users\\dell\\anaconda3\\lib\\site-packages (from dask) (2024.3.1)\n",
      "Requirement already satisfied: packaging>=20.0 in c:\\users\\dell\\appdata\\roaming\\python\\python312\\site-packages (from dask) (24.1)\n",
      "Requirement already satisfied: partd>=1.2.0 in c:\\users\\dell\\anaconda3\\lib\\site-packages (from dask) (1.4.1)\n",
      "Requirement already satisfied: pyyaml>=5.3.1 in c:\\users\\dell\\anaconda3\\lib\\site-packages (from dask) (6.0.1)\n",
      "Requirement already satisfied: toolz>=0.10.0 in c:\\users\\dell\\anaconda3\\lib\\site-packages (from dask) (0.12.0)\n",
      "Requirement already satisfied: colorama in c:\\users\\dell\\appdata\\roaming\\python\\python312\\site-packages (from click>=8.1->dask) (0.4.6)\n",
      "Requirement already satisfied: locket in c:\\users\\dell\\anaconda3\\lib\\site-packages (from partd>=1.2.0->dask) (1.0.0)\n",
      "Note: you may need to restart the kernel to use updated packages.\n"
     ]
    }
   ],
   "source": [
    "pip install dask numpy"
   ]
  },
  {
   "cell_type": "code",
   "execution_count": 27,
   "id": "e145f25a-d2c8-4ea5-a716-1cca3714babe",
   "metadata": {},
   "outputs": [
    {
     "name": "stdout",
     "output_type": "stream",
     "text": [
      "NumPy Sum of Squares: 3332503.7232706896\n",
      "NumPy Execution Time: 0.1292 seconds\n",
      "Dask Sum of Squares: 3335073.849102824\n",
      "Dask Execution Time: 0.0615 seconds\n",
      "Performance Ratio (slower method vs faster method): 2.10\n"
     ]
    }
   ],
   "source": [
    "import numpy as np\n",
    "import dask.array as da\n",
    "import time\n",
    "\n",
    "# Step 1: Create a large random array using NumPy and compute the sum of squares\n",
    "n = 10**7  # Size of the array\n",
    "\n",
    "# Timing NumPy\n",
    "start_time_numpy = time.time()\n",
    "numpy_array = np.random.random(n)\n",
    "numpy_result = np.sum(numpy_array ** 2)  # Compute sum of squares\n",
    "end_time_numpy = time.time()\n",
    "\n",
    "numpy_time = end_time_numpy - start_time_numpy\n",
    "print(f\"NumPy Sum of Squares: {numpy_result}\")\n",
    "print(f\"NumPy Execution Time: {numpy_time:.4f} seconds\")\n",
    "\n",
    "# Step 2: Create the same array using Dask Arrays (with chunk size of 10^6)\n",
    "chunk_size = 10**6\n",
    "\n",
    "# Timing Dask\n",
    "start_time_dask = time.time()\n",
    "dask_array = da.random.random(n, chunks=chunk_size)\n",
    "dask_result = da.sum(dask_array ** 2).compute()  # Compute sum of squares\n",
    "end_time_dask = time.time()\n",
    "\n",
    "dask_time = end_time_dask - start_time_dask\n",
    "print(f\"Dask Sum of Squares: {dask_result}\")\n",
    "print(f\"Dask Execution Time: {dask_time:.4f} seconds\")\n",
    "\n",
    "# Step 3: Compare Results\n",
    "performance_improvement = numpy_time / dask_time if dask_time < numpy_time else dask_time / numpy_time\n",
    "print(f\"Performance Ratio (slower method vs faster method): {performance_improvement:.2f}\")\n"
   ]
  },
  {
   "cell_type": "markdown",
   "id": "627f710a-0631-47a9-9f78-919f31fe8e51",
   "metadata": {},
   "source": [
    "# task 03:"
   ]
  },
  {
   "cell_type": "code",
   "execution_count": 1,
   "id": "7abdbb17-a1c8-4d9c-9073-8570952fe8b4",
   "metadata": {},
   "outputs": [
    {
     "name": "stdout",
     "output_type": "stream",
     "text": [
      "Requirement already satisfied: pandas in c:\\users\\dell\\anaconda3\\lib\\site-packages (2.2.2)\n",
      "Requirement already satisfied: dask[complete] in c:\\users\\dell\\anaconda3\\lib\\site-packages (2024.5.0)\n",
      "Requirement already satisfied: click>=8.1 in c:\\users\\dell\\anaconda3\\lib\\site-packages (from dask[complete]) (8.1.7)\n",
      "Requirement already satisfied: cloudpickle>=1.5.0 in c:\\users\\dell\\anaconda3\\lib\\site-packages (from dask[complete]) (2.2.1)\n",
      "Requirement already satisfied: fsspec>=2021.09.0 in c:\\users\\dell\\anaconda3\\lib\\site-packages (from dask[complete]) (2024.3.1)\n",
      "Requirement already satisfied: packaging>=20.0 in c:\\users\\dell\\appdata\\roaming\\python\\python312\\site-packages (from dask[complete]) (24.1)\n",
      "Requirement already satisfied: partd>=1.2.0 in c:\\users\\dell\\anaconda3\\lib\\site-packages (from dask[complete]) (1.4.1)\n",
      "Requirement already satisfied: pyyaml>=5.3.1 in c:\\users\\dell\\anaconda3\\lib\\site-packages (from dask[complete]) (6.0.1)\n",
      "Requirement already satisfied: toolz>=0.10.0 in c:\\users\\dell\\anaconda3\\lib\\site-packages (from dask[complete]) (0.12.0)\n",
      "Requirement already satisfied: pyarrow>=7.0 in c:\\users\\dell\\anaconda3\\lib\\site-packages (from dask[complete]) (14.0.2)\n",
      "Collecting pyarrow-hotfix (from dask[complete])\n",
      "  Downloading pyarrow_hotfix-0.6-py3-none-any.whl.metadata (3.6 kB)\n",
      "Requirement already satisfied: lz4>=4.3.2 in c:\\users\\dell\\anaconda3\\lib\\site-packages (from dask[complete]) (4.3.2)\n",
      "Requirement already satisfied: numpy>=1.26.0 in c:\\users\\dell\\anaconda3\\lib\\site-packages (from pandas) (1.26.4)\n",
      "Requirement already satisfied: python-dateutil>=2.8.2 in c:\\users\\dell\\appdata\\roaming\\python\\python312\\site-packages (from pandas) (2.9.0.post0)\n",
      "Requirement already satisfied: pytz>=2020.1 in c:\\users\\dell\\anaconda3\\lib\\site-packages (from pandas) (2024.1)\n",
      "Requirement already satisfied: tzdata>=2022.7 in c:\\users\\dell\\anaconda3\\lib\\site-packages (from pandas) (2023.3)\n",
      "Requirement already satisfied: colorama in c:\\users\\dell\\appdata\\roaming\\python\\python312\\site-packages (from click>=8.1->dask[complete]) (0.4.6)\n",
      "Requirement already satisfied: locket in c:\\users\\dell\\anaconda3\\lib\\site-packages (from partd>=1.2.0->dask[complete]) (1.0.0)\n",
      "Requirement already satisfied: six>=1.5 in c:\\users\\dell\\appdata\\roaming\\python\\python312\\site-packages (from python-dateutil>=2.8.2->pandas) (1.16.0)\n",
      "Requirement already satisfied: dask-expr<1.2,>=1.1 in c:\\users\\dell\\anaconda3\\lib\\site-packages (from dask[complete]) (1.1.0)\n",
      "Requirement already satisfied: bokeh>=2.4.2 in c:\\users\\dell\\anaconda3\\lib\\site-packages (from dask[complete]) (3.4.1)\n",
      "Requirement already satisfied: jinja2>=2.10.3 in c:\\users\\dell\\anaconda3\\lib\\site-packages (from dask[complete]) (3.1.4)\n",
      "Requirement already satisfied: distributed==2024.5.0 in c:\\users\\dell\\anaconda3\\lib\\site-packages (from dask[complete]) (2024.5.0)\n",
      "Requirement already satisfied: msgpack>=1.0.0 in c:\\users\\dell\\anaconda3\\lib\\site-packages (from distributed==2024.5.0->dask[complete]) (1.0.3)\n",
      "Requirement already satisfied: psutil>=5.7.2 in c:\\users\\dell\\appdata\\roaming\\python\\python312\\site-packages (from distributed==2024.5.0->dask[complete]) (6.0.0)\n",
      "Requirement already satisfied: sortedcontainers>=2.0.5 in c:\\users\\dell\\anaconda3\\lib\\site-packages (from distributed==2024.5.0->dask[complete]) (2.4.0)\n",
      "Requirement already satisfied: tblib>=1.6.0 in c:\\users\\dell\\anaconda3\\lib\\site-packages (from distributed==2024.5.0->dask[complete]) (1.7.0)\n",
      "Requirement already satisfied: tornado>=6.0.4 in c:\\users\\dell\\appdata\\roaming\\python\\python312\\site-packages (from distributed==2024.5.0->dask[complete]) (6.4.1)\n",
      "Requirement already satisfied: urllib3>=1.24.3 in c:\\users\\dell\\anaconda3\\lib\\site-packages (from distributed==2024.5.0->dask[complete]) (2.2.2)\n",
      "Requirement already satisfied: zict>=3.0.0 in c:\\users\\dell\\anaconda3\\lib\\site-packages (from distributed==2024.5.0->dask[complete]) (3.0.0)\n",
      "Requirement already satisfied: contourpy>=1.2 in c:\\users\\dell\\anaconda3\\lib\\site-packages (from bokeh>=2.4.2->dask[complete]) (1.2.0)\n",
      "Requirement already satisfied: pillow>=7.1.0 in c:\\users\\dell\\anaconda3\\lib\\site-packages (from bokeh>=2.4.2->dask[complete]) (10.3.0)\n",
      "Requirement already satisfied: xyzservices>=2021.09.1 in c:\\users\\dell\\anaconda3\\lib\\site-packages (from bokeh>=2.4.2->dask[complete]) (2022.9.0)\n",
      "Requirement already satisfied: MarkupSafe>=2.0 in c:\\users\\dell\\anaconda3\\lib\\site-packages (from jinja2>=2.10.3->dask[complete]) (2.1.3)\n",
      "Downloading pyarrow_hotfix-0.6-py3-none-any.whl (7.9 kB)\n",
      "Installing collected packages: pyarrow-hotfix\n",
      "Successfully installed pyarrow-hotfix-0.6\n",
      "Note: you may need to restart the kernel to use updated packages.\n"
     ]
    }
   ],
   "source": [
    "pip install dask[complete] pandas\n"
   ]
  },
  {
   "cell_type": "code",
   "execution_count": 3,
   "id": "a307b450-2a2f-4184-a52e-a4b25fb15feb",
   "metadata": {},
   "outputs": [],
   "source": [
    "import pandas as pd\n",
    "import numpy as np\n",
    "\n",
    "# Set the random seed for reproducibility\n",
    "np.random.seed(42)\n",
    "\n",
    "# Generate synthetic data\n",
    "n_rows = 10**7  # 10 million rows (approximately 1GB depending on the number of columns)\n",
    "n_cols = 5\n",
    "\n",
    "data = {\n",
    "    'Category': np.random.choice(['A', 'B', 'C', 'D'], size=n_rows),\n",
    "    'Value': np.random.rand(n_rows) * 100,\n",
    "    'Score': np.random.randint(1, 100, size=n_rows)\n",
    "}\n",
    "\n",
    "df = pd.DataFrame(data)\n",
    "\n",
    "# Save to CSV\n",
    "df.to_csv('large_data.csv', index=False)\n"
   ]
  },
  {
   "cell_type": "code",
   "execution_count": 5,
   "id": "88846f91-1162-414c-9c64-87f818bfa51e",
   "metadata": {},
   "outputs": [
    {
     "name": "stdout",
     "output_type": "stream",
     "text": [
      "  Category      Value  Score\n",
      "0        C  51.665332     27\n",
      "1        D  93.733723     87\n",
      "2        A  45.094102     80\n",
      "3        C  67.448808     30\n",
      "4        C  18.884791     73\n"
     ]
    }
   ],
   "source": [
    "import dask.dataframe as dd\n",
    "\n",
    "# Load CSV into Dask DataFrame\n",
    "dask_df = dd.read_csv('large_data.csv')\n",
    "\n",
    "# Check the first few rows to ensure the data is loaded correctly\n",
    "print(dask_df.head())\n"
   ]
  },
  {
   "cell_type": "code",
   "execution_count": 7,
   "id": "f8d0fe99-901d-42fa-9d7a-21a779355aa2",
   "metadata": {},
   "outputs": [
    {
     "name": "stdout",
     "output_type": "stream",
     "text": [
      "Mean of Value column: 50.00310602031473\n"
     ]
    }
   ],
   "source": [
    "# Compute the mean of the 'Value' column\n",
    "mean_value = dask_df['Value'].mean().compute()\n",
    "print(f\"Mean of Value column: {mean_value}\")\n"
   ]
  },
  {
   "cell_type": "code",
   "execution_count": 9,
   "id": "0cf9cdfd-2288-40b6-bb1d-23d79fc0afe9",
   "metadata": {},
   "outputs": [
    {
     "name": "stdout",
     "output_type": "stream",
     "text": [
      "  Category      Value  Score\n",
      "1        D  93.733723     87\n",
      "2        A  45.094102     80\n",
      "4        C  18.884791     73\n",
      "8        C  33.391188     55\n",
      "9        B  72.793317     64\n"
     ]
    }
   ],
   "source": [
    "# Filter rows where 'Score' > 50\n",
    "filtered_dask_df = dask_df[dask_df['Score'] > 50]\n",
    "print(filtered_dask_df.head())\n"
   ]
  },
  {
   "cell_type": "code",
   "execution_count": 11,
   "id": "0b74d18c-ea91-4a40-b337-96a17b52c81f",
   "metadata": {},
   "outputs": [
    {
     "name": "stdout",
     "output_type": "stream",
     "text": [
      "              Value      Score\n",
      "Category                      \n",
      "C         49.999157  49.978683\n",
      "D         49.994485  49.981524\n",
      "A         50.012384  49.992427\n",
      "B         50.006399  50.014610\n"
     ]
    }
   ],
   "source": [
    "# Group by 'Category' and compute summary statistics\n",
    "grouped_dask_df = dask_df.groupby('Category').agg({\n",
    "    'Value': 'mean',\n",
    "    'Score': 'mean'\n",
    "}).compute()\n",
    "\n",
    "print(grouped_dask_df)\n"
   ]
  },
  {
   "cell_type": "code",
   "execution_count": 13,
   "id": "5d6bb002-7073-4bd1-bb0b-d9bd782d0851",
   "metadata": {},
   "outputs": [
    {
     "name": "stdout",
     "output_type": "stream",
     "text": [
      "Mean of Value column (Pandas): 50.00310602031466\n",
      "  Category      Value  Score\n",
      "1        D  93.733723     87\n",
      "2        A  45.094102     80\n",
      "4        C  18.884791     73\n",
      "8        C  33.391188     55\n",
      "9        B  72.793317     64\n",
      "              Value      Score\n",
      "Category                      \n",
      "A         50.012384  49.992427\n",
      "B         50.006399  50.014610\n",
      "C         49.999157  49.978683\n",
      "D         49.994485  49.981524\n",
      "Pandas execution time: 2.697392702102661 seconds\n"
     ]
    }
   ],
   "source": [
    "import time\n",
    "\n",
    "# Load the data with pandas\n",
    "start_time = time.time()\n",
    "pandas_df = pd.read_csv('large_data.csv')\n",
    "\n",
    "# Compute the mean of the 'Value' column\n",
    "mean_value_pandas = pandas_df['Value'].mean()\n",
    "\n",
    "# Filter rows where 'Score' > 50\n",
    "filtered_pandas_df = pandas_df[pandas_df['Score'] > 50]\n",
    "\n",
    "# Group by 'Category' and compute summary statistics\n",
    "grouped_pandas_df = pandas_df.groupby('Category').agg({\n",
    "    'Value': 'mean',\n",
    "    'Score': 'mean'\n",
    "})\n",
    "\n",
    "end_time = time.time()\n",
    "\n",
    "# Print the results\n",
    "print(f\"Mean of Value column (Pandas): {mean_value_pandas}\")\n",
    "print(filtered_pandas_df.head())\n",
    "print(grouped_pandas_df)\n",
    "print(f\"Pandas execution time: {end_time - start_time} seconds\")\n"
   ]
  },
  {
   "cell_type": "code",
   "execution_count": 15,
   "id": "8738fe99-c143-43be-a3be-dee5368f0d3b",
   "metadata": {},
   "outputs": [
    {
     "name": "stdout",
     "output_type": "stream",
     "text": [
      "Mean of Value column (Dask): 50.00310602031473\n",
      "  Category      Value  Score\n",
      "1        D  93.733723     87\n",
      "2        A  45.094102     80\n",
      "4        C  18.884791     73\n",
      "8        C  33.391188     55\n",
      "9        B  72.793317     64\n",
      "              Value      Score\n",
      "Category                      \n",
      "C         49.999157  49.978683\n",
      "D         49.994485  49.981524\n",
      "A         50.012384  49.992427\n",
      "B         50.006399  50.014610\n",
      "Dask execution time: 2.318621873855591 seconds\n"
     ]
    }
   ],
   "source": [
    "# Dask operations execution time\n",
    "start_time_dask = time.time()\n",
    "\n",
    "# Compute the mean of the 'Value' column\n",
    "mean_value_dask = dask_df['Value'].mean().compute()\n",
    "\n",
    "# Filter rows where 'Score' > 50\n",
    "filtered_dask_df = dask_df[dask_df['Score'] > 50]\n",
    "\n",
    "# Group by 'Category' and compute summary statistics\n",
    "grouped_dask_df = dask_df.groupby('Category').agg({\n",
    "    'Value': 'mean',\n",
    "    'Score': 'mean'\n",
    "}).compute()\n",
    "\n",
    "end_time_dask = time.time()\n",
    "\n",
    "# Print the results\n",
    "print(f\"Mean of Value column (Dask): {mean_value_dask}\")\n",
    "print(filtered_dask_df.head())\n",
    "print(grouped_dask_df)\n",
    "print(f\"Dask execution time: {end_time_dask - start_time_dask} seconds\")\n"
   ]
  },
  {
   "cell_type": "code",
   "execution_count": null,
   "id": "1fe4ec28-ba4d-4f5c-94d6-f3c949434eaf",
   "metadata": {},
   "outputs": [],
   "source": []
  }
 ],
 "metadata": {
  "kernelspec": {
   "display_name": "Python 3 (ipykernel)",
   "language": "python",
   "name": "python3"
  },
  "language_info": {
   "codemirror_mode": {
    "name": "ipython",
    "version": 3
   },
   "file_extension": ".py",
   "mimetype": "text/x-python",
   "name": "python",
   "nbconvert_exporter": "python",
   "pygments_lexer": "ipython3",
   "version": "3.12.4"
  }
 },
 "nbformat": 4,
 "nbformat_minor": 5
}
