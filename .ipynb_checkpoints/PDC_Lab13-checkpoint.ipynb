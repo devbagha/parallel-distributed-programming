{
 "cells": [
  {
   "cell_type": "code",
   "execution_count": 1,
   "metadata": {
    "colab": {
     "base_uri": "https://localhost:8080/"
    },
    "id": "7aKTcabLUlGs",
    "outputId": "203678c3-27b4-48c8-d6f0-d9e1bc648510"
   },
   "outputs": [
    {
     "name": "stdout",
     "output_type": "stream",
     "text": [
      "zsh:1: command not found: nvidia-smi\r\n"
     ]
    }
   ],
   "source": [
    "#bash\n",
    "\n",
    "#Copy code\n",
    "\n",
    "# Check the GPU first (optional)\n",
    "\n",
    "!nvidia-smi\n",
    "\n",
    "\n",
    "\n"
   ]
  },
  {
   "cell_type": "code",
   "execution_count": 6,
   "metadata": {
    "colab": {
     "base_uri": "https://localhost:8080/"
    },
    "id": "f3DPepX5YNJP",
    "outputId": "d3a3eab4-ac80-4603-e719-17fe07b0ca24"
   },
   "outputs": [
    {
     "name": "stdout",
     "output_type": "stream",
     "text": [
      "\u001b[31mERROR: Could not find a version that satisfies the requirement rapidsai-cudf==23.12 (from versions: none)\u001b[0m\u001b[31m\n",
      "\u001b[0m\u001b[31mERROR: No matching distribution found for rapidsai-cudf==23.12\u001b[0m\u001b[31m\n",
      "\u001b[0m"
     ]
    }
   ],
   "source": [
    "# Install RAPIDS libraries (cuDF, cuML, etc.)\n",
    "\n",
    "!pip install -q rapidsai-cudf==23.12"
   ]
  },
  {
   "cell_type": "code",
   "execution_count": 7,
   "metadata": {
    "id": "FDpWaML4Y8lC"
   },
   "outputs": [],
   "source": [
    "import pandas as pd\n",
    "import cudf"
   ]
  },
  {
   "cell_type": "code",
   "execution_count": 9,
   "metadata": {
    "colab": {
     "base_uri": "https://localhost:8080/"
    },
    "id": "X6fxjRvrZOiW",
    "outputId": "e1e06e46-73f4-4907-ae92-ae310b856ce1"
   },
   "outputs": [
    {
     "name": "stdout",
     "output_type": "stream",
     "text": [
      "   sepal_length  sepal_width  petal_length  petal_width species\n",
      "0           5.1          3.5           1.4          0.2  setosa\n",
      "1           4.9          3.0           1.4          0.2  setosa\n",
      "2           4.7          3.2           1.3          0.2  setosa\n",
      "3           4.6          3.1           1.5          0.2  setosa\n",
      "4           5.0          3.6           1.4          0.2  setosa\n"
     ]
    }
   ],
   "source": [
    "# Using Pandas (CPU)\n",
    "\n",
    "pdf = pd.read_csv('https://raw.githubusercontent.com/mwaskom/seaborn-data/master/iris.csv')\n",
    "\n",
    "print(pdf.head())\n",
    "\n"
   ]
  },
  {
   "cell_type": "code",
   "execution_count": 10,
   "metadata": {
    "colab": {
     "base_uri": "https://localhost:8080/"
    },
    "id": "rgtcfRnAZZZC",
    "outputId": "b4a78876-f639-457f-9ff1-4a244a461c94"
   },
   "outputs": [
    {
     "name": "stdout",
     "output_type": "stream",
     "text": [
      "   sepal_length  sepal_width  petal_length  petal_width species\n",
      "0           5.1          3.5           1.4          0.2  setosa\n",
      "1           4.9          3.0           1.4          0.2  setosa\n",
      "2           4.7          3.2           1.3          0.2  setosa\n",
      "3           4.6          3.1           1.5          0.2  setosa\n",
      "4           5.0          3.6           1.4          0.2  setosa\n"
     ]
    }
   ],
   "source": [
    "\n",
    "# Using cuDF (GPU)\n",
    "\n",
    "gdf = cudf.read_csv('https://raw.githubusercontent.com/mwaskom/seaborn-data/master/iris.csv')\n",
    "\n",
    "print(gdf.head())"
   ]
  },
  {
   "cell_type": "code",
   "execution_count": 14,
   "metadata": {
    "colab": {
     "base_uri": "https://localhost:8080/"
    },
    "id": "976L7dS2Zn40",
    "outputId": "749eec01-4a6a-4b63-eb7d-8017ae18225f"
   },
   "outputs": [
    {
     "name": "stdout",
     "output_type": "stream",
     "text": [
      "sepal_length    float64\n",
      "sepal_width     float64\n",
      "petal_length    float64\n",
      "petal_width     float64\n",
      "species          object\n",
      "dtype: object\n"
     ]
    }
   ],
   "source": [
    "# Pandas\n",
    "\n",
    "print(pdf.dtypes)"
   ]
  },
  {
   "cell_type": "code",
   "execution_count": 15,
   "metadata": {
    "colab": {
     "base_uri": "https://localhost:8080/"
    },
    "id": "MkMKUDNtZxGV",
    "outputId": "bb050be1-bc80-4e02-c16a-5be769e3eab6"
   },
   "outputs": [
    {
     "name": "stdout",
     "output_type": "stream",
     "text": [
      "sepal_length    float64\n",
      "sepal_width     float64\n",
      "petal_length    float64\n",
      "petal_width     float64\n",
      "species          object\n",
      "dtype: object\n"
     ]
    }
   ],
   "source": [
    "# cuDF\n",
    "\n",
    "print(gdf.dtypes)"
   ]
  },
  {
   "cell_type": "code",
   "execution_count": 16,
   "metadata": {
    "colab": {
     "base_uri": "https://localhost:8080/"
    },
    "id": "JsFpAxnyaOXM",
    "outputId": "99c22ab1-038b-476a-c766-06bc7241f792"
   },
   "outputs": [
    {
     "name": "stdout",
     "output_type": "stream",
     "text": [
      "       sepal_length  sepal_width  petal_length  petal_width\n",
      "count    150.000000   150.000000    150.000000   150.000000\n",
      "mean       5.843333     3.057333      3.758000     1.199333\n",
      "std        0.828066     0.435866      1.765298     0.762238\n",
      "min        4.300000     2.000000      1.000000     0.100000\n",
      "25%        5.100000     2.800000      1.600000     0.300000\n",
      "50%        5.800000     3.000000      4.350000     1.300000\n",
      "75%        6.400000     3.300000      5.100000     1.800000\n",
      "max        7.900000     4.400000      6.900000     2.500000\n"
     ]
    }
   ],
   "source": [
    "# Pandas\n",
    "\n",
    "print(pdf.describe())"
   ]
  },
  {
   "cell_type": "code",
   "execution_count": 17,
   "metadata": {
    "colab": {
     "base_uri": "https://localhost:8080/"
    },
    "id": "jUXp6p5GaUh7",
    "outputId": "88b002f3-402c-4add-f82a-b4d205b73e02"
   },
   "outputs": [
    {
     "name": "stdout",
     "output_type": "stream",
     "text": [
      "       sepal_length  sepal_width  petal_length  petal_width\n",
      "count    150.000000   150.000000    150.000000   150.000000\n",
      "mean       5.843333     3.057333      3.758000     1.199333\n",
      "std        0.828066     0.435866      1.765298     0.762238\n",
      "min        4.300000     2.000000      1.000000     0.100000\n",
      "25%        5.100000     2.800000      1.600000     0.300000\n",
      "50%        5.800000     3.000000      4.350000     1.300000\n",
      "75%        6.400000     3.300000      5.100000     1.800000\n",
      "max        7.900000     4.400000      6.900000     2.500000\n"
     ]
    }
   ],
   "source": [
    "\n",
    "# cuDF\n",
    "\n",
    "print(gdf.describe())"
   ]
  },
  {
   "cell_type": "code",
   "execution_count": 18,
   "metadata": {
    "colab": {
     "base_uri": "https://localhost:8080/"
    },
    "id": "SgpYOv07aWlA",
    "outputId": "a104dc65-7dc5-4186-9bc4-f4c4505162e7"
   },
   "outputs": [
    {
     "name": "stdout",
     "output_type": "stream",
     "text": [
      "   sepal_length species\n",
      "0           5.1  setosa\n",
      "1           4.9  setosa\n",
      "2           4.7  setosa\n",
      "3           4.6  setosa\n",
      "4           5.0  setosa\n"
     ]
    }
   ],
   "source": [
    "# Pandas\n",
    "\n",
    "print(pdf[['sepal_length', 'species']].head())"
   ]
  },
  {
   "cell_type": "code",
   "execution_count": 19,
   "metadata": {
    "colab": {
     "base_uri": "https://localhost:8080/"
    },
    "id": "-Cn9KYcWacb4",
    "outputId": "19e989eb-ab34-47ea-cf59-5271a07b9550"
   },
   "outputs": [
    {
     "name": "stdout",
     "output_type": "stream",
     "text": [
      "   sepal_length species\n",
      "0           5.1  setosa\n",
      "1           4.9  setosa\n",
      "2           4.7  setosa\n",
      "3           4.6  setosa\n",
      "4           5.0  setosa\n"
     ]
    }
   ],
   "source": [
    "# cuDF\n",
    "\n",
    "print(gdf[['sepal_length', 'species']].head())"
   ]
  },
  {
   "cell_type": "code",
   "execution_count": 20,
   "metadata": {
    "colab": {
     "base_uri": "https://localhost:8080/"
    },
    "id": "zOM-8ZGKad9W",
    "outputId": "eab1821c-fe7b-4bf7-99e2-97231140bfa2"
   },
   "outputs": [
    {
     "name": "stdout",
     "output_type": "stream",
     "text": [
      "    sepal_length  sepal_width  petal_length  petal_width species\n",
      "0            5.1          3.5           1.4          0.2  setosa\n",
      "5            5.4          3.9           1.7          0.4  setosa\n",
      "10           5.4          3.7           1.5          0.2  setosa\n",
      "14           5.8          4.0           1.2          0.2  setosa\n",
      "15           5.7          4.4           1.5          0.4  setosa\n"
     ]
    }
   ],
   "source": [
    "# Pandas: Filter rows where sepal_length > 5\n",
    "\n",
    "filtered_pdf = pdf[pdf['sepal_length'] > 5]\n",
    "\n",
    "print(filtered_pdf.head())"
   ]
  },
  {
   "cell_type": "code",
   "execution_count": 21,
   "metadata": {
    "colab": {
     "base_uri": "https://localhost:8080/"
    },
    "id": "BT_T71lOajT7",
    "outputId": "291bf45b-b7d5-41e4-d4ec-60a582f19347"
   },
   "outputs": [
    {
     "name": "stdout",
     "output_type": "stream",
     "text": [
      "    sepal_length  sepal_width  petal_length  petal_width species\n",
      "0            5.1          3.5           1.4          0.2  setosa\n",
      "5            5.4          3.9           1.7          0.4  setosa\n",
      "10           5.4          3.7           1.5          0.2  setosa\n",
      "14           5.8          4.0           1.2          0.2  setosa\n",
      "15           5.7          4.4           1.5          0.4  setosa\n"
     ]
    }
   ],
   "source": [
    "# cuDF: Filter rows where sepal_length > 5 (GPU-accelerated)\n",
    "\n",
    "filtered_gdf = gdf[gdf['sepal_length'] > 5]\n",
    "\n",
    "print(filtered_gdf.head())"
   ]
  },
  {
   "cell_type": "code",
   "execution_count": 22,
   "metadata": {
    "colab": {
     "base_uri": "https://localhost:8080/"
    },
    "id": "93Li5dthaj2P",
    "outputId": "ea202b3e-f7cb-4a11-ea93-25875e046d58"
   },
   "outputs": [
    {
     "name": "stdout",
     "output_type": "stream",
     "text": [
      "            sepal_length  sepal_width  petal_length  petal_width\n",
      "species                                                         \n",
      "setosa             5.006        3.428         1.462        0.246\n",
      "versicolor         5.936        2.770         4.260        1.326\n",
      "virginica          6.588        2.974         5.552        2.026\n"
     ]
    }
   ],
   "source": [
    "# Pandas: Group by species and calculate the mean of each group\n",
    "\n",
    "grouped_pdf = pdf.groupby('species').mean()\n",
    "\n",
    "print(grouped_pdf)\n"
   ]
  },
  {
   "cell_type": "code",
   "execution_count": 23,
   "metadata": {
    "colab": {
     "base_uri": "https://localhost:8080/"
    },
    "id": "hpCTglqhaoEA",
    "outputId": "19aa4dc1-4250-4d76-ffdc-a543d39c71d7"
   },
   "outputs": [
    {
     "name": "stdout",
     "output_type": "stream",
     "text": [
      "            sepal_length  sepal_width  petal_length  petal_width\n",
      "species                                                         \n",
      "versicolor         5.936        2.770         4.260        1.326\n",
      "virginica          6.588        2.974         5.552        2.026\n",
      "setosa             5.006        3.428         1.462        0.246\n"
     ]
    }
   ],
   "source": [
    "\n",
    "# cuDF: Group by species and calculate the mean (GPU-accelerated)\n",
    "\n",
    "grouped_gdf = gdf.groupby('species').mean()\n",
    "\n",
    "print(grouped_gdf)"
   ]
  },
  {
   "cell_type": "code",
   "execution_count": 24,
   "metadata": {
    "colab": {
     "base_uri": "https://localhost:8080/"
    },
    "id": "TUkFaCzraow3",
    "outputId": "8ee5ce2d-bdc5-4d69-d88b-9cc0c1b81656"
   },
   "outputs": [
    {
     "name": "stdout",
     "output_type": "stream",
     "text": [
      "   sepal_length  sepal_width  petal_length_x  petal_width species  \\\n",
      "0           5.1          3.5             1.4          0.2  setosa   \n",
      "1           4.9          3.0             1.4          0.2  setosa   \n",
      "2           4.7          3.2             1.3          0.2  setosa   \n",
      "3           4.6          3.1             1.5          0.2  setosa   \n",
      "4           5.0          3.6             1.4          0.2  setosa   \n",
      "\n",
      "   petal_length_y  \n",
      "0             1.5  \n",
      "1             1.5  \n",
      "2             1.5  \n",
      "3             1.5  \n",
      "4             1.5  \n"
     ]
    }
   ],
   "source": [
    "# Pandas\n",
    "\n",
    "df1 = pd.DataFrame({\n",
    "\n",
    "'species': ['setosa', 'versicolor', 'virginica'],\n",
    "\n",
    "'petal_length': [1.5, 4.5, 5.5]\n",
    "\n",
    "})\n",
    "\n",
    "merged_pdf = pd.merge(pdf, df1, on='species')\n",
    "\n",
    "print(merged_pdf.head())\n",
    "\n"
   ]
  },
  {
   "cell_type": "code",
   "execution_count": 27,
   "metadata": {
    "colab": {
     "base_uri": "https://localhost:8080/"
    },
    "id": "rgY8iAtXauVC",
    "outputId": "06c410a0-18ab-4efb-e53f-fd57b8cc1e75"
   },
   "outputs": [
    {
     "name": "stdout",
     "output_type": "stream",
     "text": [
      "   sepal_length  sepal_width  petal_length_x  petal_width    species  \\\n",
      "0           6.4          2.8             5.6          2.1  virginica   \n",
      "1           7.2          3.0             5.8          1.6  virginica   \n",
      "2           7.4          2.8             6.1          1.9  virginica   \n",
      "3           7.9          3.8             6.4          2.0  virginica   \n",
      "4           6.4          2.8             5.6          2.2  virginica   \n",
      "\n",
      "   petal_length_y  \n",
      "0             5.5  \n",
      "1             5.5  \n",
      "2             5.5  \n",
      "3             5.5  \n",
      "4             5.5  \n"
     ]
    }
   ],
   "source": [
    "\n",
    "# cuDF\n",
    "\n",
    "df2 = cudf.DataFrame({\n",
    "\n",
    "'species': ['setosa', 'versicolor', 'virginica'],\n",
    "\n",
    "'petal_length': [1.5, 4.5, 5.5]\n",
    "\n",
    "})\n",
    "\n",
    "merged_gdf = cudf.merge(gdf, df2, on='species')\n",
    "\n",
    "print(merged_gdf.head())"
   ]
  },
  {
   "cell_type": "code",
   "execution_count": 28,
   "metadata": {
    "id": "Ix8v4XqtavAF"
   },
   "outputs": [],
   "source": [
    "import numpy as np\n",
    "\n",
    "\n",
    "# Create a large DataFrame with 10 million rows\n",
    "\n",
    "n_rows = 10000000\n",
    "\n",
    "\n",
    "# Pandas (CPU)\n",
    "\n",
    "large_pdf = pd.DataFrame({\n",
    "\n",
    "'col1': np.random.random(n_rows),\n",
    "\n",
    "'col2': np.random.random(n_rows)\n",
    "\n",
    "})\n",
    "\n"
   ]
  },
  {
   "cell_type": "code",
   "execution_count": 29,
   "metadata": {
    "id": "bDJpDSEbbESU"
   },
   "outputs": [],
   "source": [
    "n_rows = 10000000\n",
    "# cuDF (GPU)\n",
    "\n",
    "large_gdf = cudf.DataFrame({\n",
    "\n",
    "'col1': np.random.random(n_rows),\n",
    "\n",
    "'col2': np.random.random(n_rows)\n",
    "\n",
    "})"
   ]
  },
  {
   "cell_type": "code",
   "execution_count": 30,
   "metadata": {
    "colab": {
     "base_uri": "https://localhost:8080/"
    },
    "id": "ozxcnkMJbTNo",
    "outputId": "d4e67114-e328-4e32-e61e-f246e5c6bf42"
   },
   "outputs": [
    {
     "name": "stdout",
     "output_type": "stream",
     "text": [
      "Pandas Sum: 5001013.795721645\n",
      "CPU times: user 21.8 ms, sys: 1.8 ms, total: 23.6 ms\n",
      "Wall time: 26.5 ms\n"
     ]
    }
   ],
   "source": [
    "# Pandas summation\n",
    "\n",
    "%%time\n",
    "\n",
    "pdf_sum = large_pdf['col1'].sum()\n",
    "\n",
    "print(\"Pandas Sum:\", pdf_sum)"
   ]
  },
  {
   "cell_type": "code",
   "execution_count": 31,
   "metadata": {
    "colab": {
     "base_uri": "https://localhost:8080/"
    },
    "id": "QGkfFZYYbZEQ",
    "outputId": "dcd59e03-615e-457a-95cc-9495e2b6213c"
   },
   "outputs": [
    {
     "name": "stdout",
     "output_type": "stream",
     "text": [
      "cuDF Sum: 5000114.145812493\n",
      "CPU times: user 5.17 ms, sys: 853 µs, total: 6.02 ms\n",
      "Wall time: 11.6 ms\n"
     ]
    }
   ],
   "source": [
    "# cuDF summation\n",
    "\n",
    "%%time\n",
    "\n",
    "gdf_sum = large_gdf['col1'].sum()\n",
    "\n",
    "print(\"cuDF Sum:\", gdf_sum)"
   ]
  },
  {
   "cell_type": "code",
   "execution_count": 32,
   "metadata": {
    "colab": {
     "base_uri": "https://localhost:8080/"
    },
    "id": "YRYM63QCbZnV",
    "outputId": "e0867947-df60-4e69-b171-278f70e6fd6d"
   },
   "outputs": [
    {
     "name": "stdout",
     "output_type": "stream",
     "text": [
      "(5002404, 2)\n",
      "CPU times: user 124 ms, sys: 44.7 ms, total: 169 ms\n",
      "Wall time: 490 ms\n"
     ]
    }
   ],
   "source": [
    "# Pandas filtering\n",
    "\n",
    "%%time\n",
    "\n",
    "filtered_pdf = large_pdf[large_pdf['col1'] > 0.5]\n",
    "\n",
    "print(filtered_pdf.shape)"
   ]
  },
  {
   "cell_type": "code",
   "execution_count": 34,
   "metadata": {
    "colab": {
     "base_uri": "https://localhost:8080/"
    },
    "id": "pp4FZQdFbhCp",
    "outputId": "619c30e1-aabf-439d-d401-05dabfbd0296"
   },
   "outputs": [
    {
     "name": "stdout",
     "output_type": "stream",
     "text": [
      "(5000070, 2)\n",
      "CPU times: user 9.6 ms, sys: 94 µs, total: 9.69 ms\n",
      "Wall time: 15.3 ms\n"
     ]
    }
   ],
   "source": [
    "\n",
    "\n",
    "# cuDF filtering\n",
    "\n",
    "%%time\n",
    "\n",
    "filtered_gdf = large_gdf[large_gdf['col1'] > 0.5]\n",
    "\n",
    "print(filtered_gdf.shape)"
   ]
  },
  {
   "cell_type": "code",
   "execution_count": 36,
   "metadata": {
    "colab": {
     "base_uri": "https://localhost:8080/",
     "height": 17
    },
    "id": "ImD4XvXNbh8N",
    "outputId": "0e8f770e-dcd4-43b0-dab4-93427cf25162"
   },
   "outputs": [
    {
     "data": {
      "application/javascript": [
       "\n",
       "    async function download(id, filename, size) {\n",
       "      if (!google.colab.kernel.accessAllowed) {\n",
       "        return;\n",
       "      }\n",
       "      const div = document.createElement('div');\n",
       "      const label = document.createElement('label');\n",
       "      label.textContent = `Downloading \"${filename}\": `;\n",
       "      div.appendChild(label);\n",
       "      const progress = document.createElement('progress');\n",
       "      progress.max = size;\n",
       "      div.appendChild(progress);\n",
       "      document.body.appendChild(div);\n",
       "\n",
       "      const buffers = [];\n",
       "      let downloaded = 0;\n",
       "\n",
       "      const channel = await google.colab.kernel.comms.open(id);\n",
       "      // Send a message to notify the kernel that we're ready.\n",
       "      channel.send({})\n",
       "\n",
       "      for await (const message of channel.messages) {\n",
       "        // Send a message to notify the kernel that we're ready.\n",
       "        channel.send({})\n",
       "        if (message.buffers) {\n",
       "          for (const buffer of message.buffers) {\n",
       "            buffers.push(buffer);\n",
       "            downloaded += buffer.byteLength;\n",
       "            progress.value = downloaded;\n",
       "          }\n",
       "        }\n",
       "      }\n",
       "      const blob = new Blob(buffers, {type: 'application/binary'});\n",
       "      const a = document.createElement('a');\n",
       "      a.href = window.URL.createObjectURL(blob);\n",
       "      a.download = filename;\n",
       "      div.appendChild(a);\n",
       "      a.click();\n",
       "      div.remove();\n",
       "    }\n",
       "  "
      ],
      "text/plain": [
       "<IPython.core.display.Javascript object>"
      ]
     },
     "metadata": {},
     "output_type": "display_data"
    },
    {
     "data": {
      "application/javascript": [
       "download(\"download_cec11342-c295-4924-9119-0b9f3de3bd7c\", \"CuDF_gpu_output.csv\", 4349)"
      ],
      "text/plain": [
       "<IPython.core.display.Javascript object>"
      ]
     },
     "metadata": {},
     "output_type": "display_data"
    },
    {
     "data": {
      "application/javascript": [
       "\n",
       "    async function download(id, filename, size) {\n",
       "      if (!google.colab.kernel.accessAllowed) {\n",
       "        return;\n",
       "      }\n",
       "      const div = document.createElement('div');\n",
       "      const label = document.createElement('label');\n",
       "      label.textContent = `Downloading \"${filename}\": `;\n",
       "      div.appendChild(label);\n",
       "      const progress = document.createElement('progress');\n",
       "      progress.max = size;\n",
       "      div.appendChild(progress);\n",
       "      document.body.appendChild(div);\n",
       "\n",
       "      const buffers = [];\n",
       "      let downloaded = 0;\n",
       "\n",
       "      const channel = await google.colab.kernel.comms.open(id);\n",
       "      // Send a message to notify the kernel that we're ready.\n",
       "      channel.send({})\n",
       "\n",
       "      for await (const message of channel.messages) {\n",
       "        // Send a message to notify the kernel that we're ready.\n",
       "        channel.send({})\n",
       "        if (message.buffers) {\n",
       "          for (const buffer of message.buffers) {\n",
       "            buffers.push(buffer);\n",
       "            downloaded += buffer.byteLength;\n",
       "            progress.value = downloaded;\n",
       "          }\n",
       "        }\n",
       "      }\n",
       "      const blob = new Blob(buffers, {type: 'application/binary'});\n",
       "      const a = document.createElement('a');\n",
       "      a.href = window.URL.createObjectURL(blob);\n",
       "      a.download = filename;\n",
       "      div.appendChild(a);\n",
       "      a.click();\n",
       "      div.remove();\n",
       "    }\n",
       "  "
      ],
      "text/plain": [
       "<IPython.core.display.Javascript object>"
      ]
     },
     "metadata": {},
     "output_type": "display_data"
    },
    {
     "data": {
      "application/javascript": [
       "download(\"download_0c312ce3-0603-4a79-b2d1-8bcec45d44a4\", \"Pandas_cpu_output.csv\", 4349)"
      ],
      "text/plain": [
       "<IPython.core.display.Javascript object>"
      ]
     },
     "metadata": {},
     "output_type": "display_data"
    }
   ],
   "source": [
    "# Save cuDF DataFrame to a CSV file\n",
    "\n",
    "gdf.to_csv('CuDF_gpu_output.csv')\n",
    "\n",
    "\n",
    "# Save Pandas DataFrame to a CSV file\n",
    "\n",
    "pdf.to_csv('Pandas_cpu_output.csv')\n",
    "\n",
    "\n",
    "# Download files in Google Colab\n",
    "\n",
    "from google.colab import files\n",
    "\n",
    "files.download('CuDF_gpu_output.csv')\n",
    "\n",
    "files.download('Pandas_cpu_output.csv')"
   ]
  },
  {
   "cell_type": "code",
   "execution_count": null,
   "metadata": {
    "id": "V7GThuaDbrik"
   },
   "outputs": [],
   "source": []
  }
 ],
 "metadata": {
  "accelerator": "GPU",
  "colab": {
   "gpuType": "T4",
   "provenance": []
  },
  "kernelspec": {
   "display_name": "Python 3 (ipykernel)",
   "language": "python",
   "name": "python3"
  },
  "language_info": {
   "codemirror_mode": {
    "name": "ipython",
    "version": 3
   },
   "file_extension": ".py",
   "mimetype": "text/x-python",
   "name": "python",
   "nbconvert_exporter": "python",
   "pygments_lexer": "ipython3",
   "version": "3.11.5"
  }
 },
 "nbformat": 4,
 "nbformat_minor": 1
}
